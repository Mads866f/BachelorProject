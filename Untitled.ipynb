{
 "cells": [
  {
   "cell_type": "code",
   "execution_count": 1,
   "id": "42a7d4f8",
   "metadata": {},
   "outputs": [
    {
     "name": "stdout",
     "output_type": "stream",
     "text": [
      "Defaulting to user installation because normal site-packages is not writeable\n",
      "Requirement already satisfied: pip in /home/kbem/.local/lib/python3.10/site-packages (25.1.1)\n",
      "\u001b[33mWARNING: Error parsing dependencies of send2trash: Expected matching RIGHT_PARENTHESIS for LEFT_PARENTHESIS, after version specifier\n",
      "    sys-platform (==\"darwin\") ; extra == 'objc'\n",
      "                 ~^\u001b[0m\u001b[33m\n",
      "\u001b[0m\u001b[33mWARNING: Error parsing dependencies of send2trash: Expected matching RIGHT_PARENTHESIS for LEFT_PARENTHESIS, after version specifier\n",
      "    sys-platform (==\"darwin\") ; extra == 'objc'\n",
      "                 ~^\u001b[0m\u001b[33m\n",
      "\u001b[0m"
     ]
    }
   ],
   "source": [
    "!python3 -m pip install --upgrade pip\n",
    "!pip install \"numpy<2\" --quiet"
   ]
  },
  {
   "cell_type": "code",
   "execution_count": 3,
   "id": "2510b419",
   "metadata": {},
   "outputs": [
    {
     "name": "stdout",
     "output_type": "stream",
     "text": [
      "1.26.4\n"
     ]
    }
   ],
   "source": [
    "import pabutools.election as pb\n",
    "import pabutools.rules as pbr\n",
    "import pabutools.analysis as pba\n",
    "import numpy as np\n",
    "print(np.__version__)\n",
    "import matplotlib.pyplot as plt\n",
    "import random\n",
    "import os"
   ]
  },
  {
   "cell_type": "code",
   "execution_count": 2,
   "id": "547d6a0f",
   "metadata": {},
   "outputs": [
    {
     "ename": "NameError",
     "evalue": "name 'pb' is not defined",
     "output_type": "error",
     "traceback": [
      "\u001b[0;31m---------------------------------------------------------------------------\u001b[0m",
      "\u001b[0;31mNameError\u001b[0m                                 Traceback (most recent call last)",
      "\u001b[0;32m/tmp/ipykernel_141015/2604767638.py\u001b[0m in \u001b[0;36m<module>\u001b[0;34m\u001b[0m\n\u001b[0;32m----> 1\u001b[0;31m \u001b[0mp1\u001b[0m \u001b[0;34m=\u001b[0m \u001b[0mpb\u001b[0m\u001b[0;34m.\u001b[0m\u001b[0mProject\u001b[0m\u001b[0;34m(\u001b[0m\u001b[0;34m\"P1\"\u001b[0m\u001b[0;34m,\u001b[0m\u001b[0;36m60\u001b[0m\u001b[0;34m)\u001b[0m\u001b[0;34m\u001b[0m\u001b[0;34m\u001b[0m\u001b[0m\n\u001b[0m\u001b[1;32m      2\u001b[0m \u001b[0mp2\u001b[0m \u001b[0;34m=\u001b[0m \u001b[0mpb\u001b[0m\u001b[0;34m.\u001b[0m\u001b[0mProject\u001b[0m\u001b[0;34m(\u001b[0m\u001b[0;34m\"P2\"\u001b[0m\u001b[0;34m,\u001b[0m\u001b[0;36m61\u001b[0m\u001b[0;34m)\u001b[0m\u001b[0;34m\u001b[0m\u001b[0;34m\u001b[0m\u001b[0m\n\u001b[1;32m      3\u001b[0m \u001b[0;34m\u001b[0m\u001b[0m\n\u001b[1;32m      4\u001b[0m \u001b[0mb1\u001b[0m \u001b[0;34m=\u001b[0m \u001b[0mpb\u001b[0m\u001b[0;34m.\u001b[0m\u001b[0mApprovalBallot\u001b[0m\u001b[0;34m(\u001b[0m\u001b[0;34m[\u001b[0m\u001b[0mp1\u001b[0m\u001b[0;34m]\u001b[0m\u001b[0;34m)\u001b[0m\u001b[0;34m\u001b[0m\u001b[0;34m\u001b[0m\u001b[0m\n\u001b[1;32m      5\u001b[0m \u001b[0mb2\u001b[0m \u001b[0;34m=\u001b[0m \u001b[0mpb\u001b[0m\u001b[0;34m.\u001b[0m\u001b[0mApprovalBallot\u001b[0m\u001b[0;34m(\u001b[0m\u001b[0;34m[\u001b[0m\u001b[0mp1\u001b[0m\u001b[0;34m]\u001b[0m\u001b[0;34m)\u001b[0m\u001b[0;34m\u001b[0m\u001b[0;34m\u001b[0m\u001b[0m\n",
      "\u001b[0;31mNameError\u001b[0m: name 'pb' is not defined"
     ]
    }
   ],
   "source": [
    "p1 = pb.Project(\"P1\",60)\n",
    "p2 = pb.Project(\"P2\",61)\n",
    "\n",
    "b1 = pb.ApprovalBallot([p1])\n",
    "b2 = pb.ApprovalBallot([p1])\n",
    "b3 = pb.ApprovalBallot([p2])\n",
    "b4 = pb.ApprovalBallot([p2])\n",
    "\n",
    "profile = pb.ApprovalProfile([b1,b2,b3,b4])\n",
    "voting_instance = pb.Instance([p1,p2],budget_limit=120)\n",
    "\n",
    "outcome = pbr.method_of_equal_shares(voting_instance,profile,sat_class = pb.Cost_Sat)\n",
    "print(\"Outcome:\" ,outcome)\n",
    "print(pba.avg_satisfaction(voting_instance,profile,outcome,pb.CC_Sat))\n",
    "print(float(pba.avg_satisfaction(voting_instance,profile,outcome,pb.Cost_Sqrt_Sat)))\n",
    "print(list(profile[1])[0])"
   ]
  },
  {
   "cell_type": "code",
   "execution_count": 5,
   "id": "bf166716",
   "metadata": {},
   "outputs": [
    {
     "name": "stdout",
     "output_type": "stream",
     "text": [
      "Instance:  0\n"
     ]
    },
    {
     "ename": "KeyboardInterrupt",
     "evalue": "",
     "output_type": "error",
     "traceback": [
      "\u001b[0;31m---------------------------------------------------------------------------\u001b[0m",
      "\u001b[0;31mKeyboardInterrupt\u001b[0m                         Traceback (most recent call last)",
      "\u001b[0;32m/tmp/ipykernel_581035/2320912099.py\u001b[0m in \u001b[0;36m<module>\u001b[0;34m\u001b[0m\n\u001b[1;32m     27\u001b[0m \u001b[0;34m\u001b[0m\u001b[0m\n\u001b[1;32m     28\u001b[0m         \u001b[0;31m#Outcomes:\u001b[0m\u001b[0;34m\u001b[0m\u001b[0;34m\u001b[0m\u001b[0m\n\u001b[0;32m---> 29\u001b[0;31m         \u001b[0moutcome\u001b[0m \u001b[0;34m=\u001b[0m \u001b[0mpbr\u001b[0m\u001b[0;34m.\u001b[0m\u001b[0mmethod_of_equal_shares\u001b[0m\u001b[0;34m(\u001b[0m\u001b[0mcurrent_instance\u001b[0m\u001b[0;34m,\u001b[0m\u001b[0mcurrent_profile\u001b[0m\u001b[0;34m,\u001b[0m\u001b[0msat_class\u001b[0m \u001b[0;34m=\u001b[0m \u001b[0mpb\u001b[0m\u001b[0;34m.\u001b[0m\u001b[0mCC_Sat\u001b[0m\u001b[0;34m)\u001b[0m\u001b[0;34m\u001b[0m\u001b[0;34m\u001b[0m\u001b[0m\n\u001b[0m\u001b[1;32m     30\u001b[0m         \u001b[0mavg_sat\u001b[0m \u001b[0;34m=\u001b[0m \u001b[0mpba\u001b[0m\u001b[0;34m.\u001b[0m\u001b[0mavg_satisfaction\u001b[0m\u001b[0;34m(\u001b[0m\u001b[0mcurrent_instance\u001b[0m\u001b[0;34m,\u001b[0m\u001b[0mcurrent_profile\u001b[0m\u001b[0;34m,\u001b[0m\u001b[0moutcome\u001b[0m\u001b[0;34m,\u001b[0m\u001b[0mpb\u001b[0m\u001b[0;34m.\u001b[0m\u001b[0mCC_Sat\u001b[0m\u001b[0;34m)\u001b[0m\u001b[0;34m\u001b[0m\u001b[0;34m\u001b[0m\u001b[0m\n\u001b[1;32m     31\u001b[0m         \u001b[0moutcome_cost\u001b[0m \u001b[0;34m=\u001b[0m \u001b[0msum\u001b[0m\u001b[0;34m(\u001b[0m\u001b[0mproject\u001b[0m\u001b[0;34m.\u001b[0m\u001b[0mcost\u001b[0m \u001b[0;32mfor\u001b[0m \u001b[0mproject\u001b[0m \u001b[0;32min\u001b[0m \u001b[0moutcome\u001b[0m\u001b[0;34m)\u001b[0m\u001b[0;34m\u001b[0m\u001b[0;34m\u001b[0m\u001b[0m\n",
      "\u001b[0;32m~/.local/lib/python3.10/site-packages/pabutools/rules/mes/mes_rule.py\u001b[0m in \u001b[0;36mmethod_of_equal_shares\u001b[0;34m(instance, profile, sat_class, sat_profile, tie_breaking, resoluteness, initial_budget_allocation, voter_budget_increment, binary_sat, skipped_project, analytics, verbose)\u001b[0m\n\u001b[1;32m    720\u001b[0m         \u001b[0mbinary_sat\u001b[0m \u001b[0;34m=\u001b[0m \u001b[0misinstance\u001b[0m\u001b[0;34m(\u001b[0m\u001b[0mprofile\u001b[0m\u001b[0;34m,\u001b[0m \u001b[0mAbstractApprovalProfile\u001b[0m\u001b[0;34m)\u001b[0m\u001b[0;34m\u001b[0m\u001b[0;34m\u001b[0m\u001b[0m\n\u001b[1;32m    721\u001b[0m \u001b[0;34m\u001b[0m\u001b[0m\n\u001b[0;32m--> 722\u001b[0;31m     return method_of_equal_shares_scheme(\n\u001b[0m\u001b[1;32m    723\u001b[0m         \u001b[0minstance\u001b[0m\u001b[0;34m,\u001b[0m\u001b[0;34m\u001b[0m\u001b[0;34m\u001b[0m\u001b[0m\n\u001b[1;32m    724\u001b[0m         \u001b[0mprofile\u001b[0m\u001b[0;34m,\u001b[0m\u001b[0;34m\u001b[0m\u001b[0;34m\u001b[0m\u001b[0m\n",
      "\u001b[0;32m~/.local/lib/python3.10/site-packages/pabutools/rules/mes/mes_rule.py\u001b[0m in \u001b[0;36mmethod_of_equal_shares_scheme\u001b[0;34m(instance, profile, sat_profile, initial_budget_per_voter, initial_budget_allocation, tie_breaking, resoluteness, voter_budget_increment, binary_sat, skipped_project, analytics, verbose)\u001b[0m\n\u001b[1;32m    560\u001b[0m             \u001b[0mindiv_sat\u001b[0m \u001b[0;34m=\u001b[0m \u001b[0mv\u001b[0m\u001b[0;34m.\u001b[0m\u001b[0msat\u001b[0m\u001b[0;34m.\u001b[0m\u001b[0msat_project\u001b[0m\u001b[0;34m(\u001b[0m\u001b[0mp\u001b[0m\u001b[0;34m)\u001b[0m\u001b[0;34m\u001b[0m\u001b[0;34m\u001b[0m\u001b[0m\n\u001b[1;32m    561\u001b[0m             \u001b[0;32mif\u001b[0m \u001b[0mindiv_sat\u001b[0m \u001b[0;34m>\u001b[0m \u001b[0;36m0\u001b[0m\u001b[0;34m:\u001b[0m\u001b[0;34m\u001b[0m\u001b[0;34m\u001b[0m\u001b[0m\n\u001b[0;32m--> 562\u001b[0;31m                 \u001b[0mtotal_sat\u001b[0m \u001b[0;34m+=\u001b[0m \u001b[0mv\u001b[0m\u001b[0;34m.\u001b[0m\u001b[0mtotal_sat_project\u001b[0m\u001b[0;34m(\u001b[0m\u001b[0mp\u001b[0m\u001b[0;34m)\u001b[0m\u001b[0;34m\u001b[0m\u001b[0;34m\u001b[0m\u001b[0m\n\u001b[0m\u001b[1;32m    563\u001b[0m                 \u001b[0mmes_p\u001b[0m\u001b[0;34m.\u001b[0m\u001b[0msupporter_indices\u001b[0m\u001b[0;34m.\u001b[0m\u001b[0mappend\u001b[0m\u001b[0;34m(\u001b[0m\u001b[0mi\u001b[0m\u001b[0;34m)\u001b[0m\u001b[0;34m\u001b[0m\u001b[0;34m\u001b[0m\u001b[0m\n\u001b[1;32m    564\u001b[0m                 \u001b[0;32mif\u001b[0m \u001b[0mbinary_sat\u001b[0m\u001b[0;34m:\u001b[0m\u001b[0;34m\u001b[0m\u001b[0;34m\u001b[0m\u001b[0m\n",
      "\u001b[0;32m~/.local/lib/python3.10/site-packages/pabutools/rules/mes/mes_rule.py\u001b[0m in \u001b[0;36mtotal_sat_project\u001b[0;34m(self, proj)\u001b[0m\n\u001b[1;32m     89\u001b[0m                 \u001b[0mThe\u001b[0m \u001b[0mtotal\u001b[0m \u001b[0msatisfaction\u001b[0m\u001b[0;34m.\u001b[0m\u001b[0;34m\u001b[0m\u001b[0;34m\u001b[0m\u001b[0m\n\u001b[1;32m     90\u001b[0m         \"\"\"\n\u001b[0;32m---> 91\u001b[0;31m         \u001b[0;32mreturn\u001b[0m \u001b[0mself\u001b[0m\u001b[0;34m.\u001b[0m\u001b[0mmultiplicity\u001b[0m \u001b[0;34m*\u001b[0m \u001b[0mself\u001b[0m\u001b[0;34m.\u001b[0m\u001b[0msat\u001b[0m\u001b[0;34m.\u001b[0m\u001b[0msat_project\u001b[0m\u001b[0;34m(\u001b[0m\u001b[0mproj\u001b[0m\u001b[0;34m)\u001b[0m\u001b[0;34m\u001b[0m\u001b[0;34m\u001b[0m\u001b[0m\n\u001b[0m\u001b[1;32m     92\u001b[0m \u001b[0;34m\u001b[0m\u001b[0m\n\u001b[1;32m     93\u001b[0m     \u001b[0;32mdef\u001b[0m \u001b[0mtotal_budget\u001b[0m\u001b[0;34m(\u001b[0m\u001b[0mself\u001b[0m\u001b[0;34m)\u001b[0m \u001b[0;34m->\u001b[0m \u001b[0mNumeric\u001b[0m\u001b[0;34m:\u001b[0m\u001b[0;34m\u001b[0m\u001b[0;34m\u001b[0m\u001b[0m\n",
      "\u001b[0;32m~/.local/lib/python3.10/site-packages/pabutools/election/satisfaction/functionalsatisfaction.py\u001b[0m in \u001b[0;36msat_project\u001b[0;34m(self, project)\u001b[0m\n\u001b[1;32m     75\u001b[0m \u001b[0;34m\u001b[0m\u001b[0m\n\u001b[1;32m     76\u001b[0m     \u001b[0;32mdef\u001b[0m \u001b[0msat_project\u001b[0m\u001b[0;34m(\u001b[0m\u001b[0mself\u001b[0m\u001b[0;34m,\u001b[0m \u001b[0mproject\u001b[0m\u001b[0;34m:\u001b[0m \u001b[0mProject\u001b[0m\u001b[0;34m)\u001b[0m \u001b[0;34m->\u001b[0m \u001b[0mNumeric\u001b[0m\u001b[0;34m:\u001b[0m\u001b[0;34m\u001b[0m\u001b[0;34m\u001b[0m\u001b[0m\n\u001b[0;32m---> 77\u001b[0;31m         \u001b[0;32mreturn\u001b[0m \u001b[0mself\u001b[0m\u001b[0;34m.\u001b[0m\u001b[0msat\u001b[0m\u001b[0;34m(\u001b[0m\u001b[0;34m[\u001b[0m\u001b[0mproject\u001b[0m\u001b[0;34m]\u001b[0m\u001b[0;34m)\u001b[0m\u001b[0;34m\u001b[0m\u001b[0;34m\u001b[0m\u001b[0m\n\u001b[0m\u001b[1;32m     78\u001b[0m \u001b[0;34m\u001b[0m\u001b[0m\n\u001b[1;32m     79\u001b[0m \u001b[0;34m\u001b[0m\u001b[0m\n",
      "\u001b[0;32m~/.local/lib/python3.10/site-packages/pabutools/election/satisfaction/functionalsatisfaction.py\u001b[0m in \u001b[0;36msat\u001b[0;34m(self, projects)\u001b[0m\n\u001b[1;32m     72\u001b[0m \u001b[0;34m\u001b[0m\u001b[0m\n\u001b[1;32m     73\u001b[0m     \u001b[0;32mdef\u001b[0m \u001b[0msat\u001b[0m\u001b[0;34m(\u001b[0m\u001b[0mself\u001b[0m\u001b[0;34m,\u001b[0m \u001b[0mprojects\u001b[0m\u001b[0;34m:\u001b[0m \u001b[0mCollection\u001b[0m\u001b[0;34m[\u001b[0m\u001b[0mProject\u001b[0m\u001b[0;34m]\u001b[0m\u001b[0;34m)\u001b[0m \u001b[0;34m->\u001b[0m \u001b[0mNumeric\u001b[0m\u001b[0;34m:\u001b[0m\u001b[0;34m\u001b[0m\u001b[0;34m\u001b[0m\u001b[0m\n\u001b[0;32m---> 74\u001b[0;31m         \u001b[0;32mreturn\u001b[0m \u001b[0mself\u001b[0m\u001b[0;34m.\u001b[0m\u001b[0mfunc\u001b[0m\u001b[0;34m(\u001b[0m\u001b[0mself\u001b[0m\u001b[0;34m.\u001b[0m\u001b[0minstance\u001b[0m\u001b[0;34m,\u001b[0m \u001b[0mself\u001b[0m\u001b[0;34m.\u001b[0m\u001b[0mprofile\u001b[0m\u001b[0;34m,\u001b[0m \u001b[0mself\u001b[0m\u001b[0;34m.\u001b[0m\u001b[0mballot\u001b[0m\u001b[0;34m,\u001b[0m \u001b[0mprojects\u001b[0m\u001b[0;34m)\u001b[0m\u001b[0;34m\u001b[0m\u001b[0;34m\u001b[0m\u001b[0m\n\u001b[0m\u001b[1;32m     75\u001b[0m \u001b[0;34m\u001b[0m\u001b[0m\n\u001b[1;32m     76\u001b[0m     \u001b[0;32mdef\u001b[0m \u001b[0msat_project\u001b[0m\u001b[0;34m(\u001b[0m\u001b[0mself\u001b[0m\u001b[0;34m,\u001b[0m \u001b[0mproject\u001b[0m\u001b[0;34m:\u001b[0m \u001b[0mProject\u001b[0m\u001b[0;34m)\u001b[0m \u001b[0;34m->\u001b[0m \u001b[0mNumeric\u001b[0m\u001b[0;34m:\u001b[0m\u001b[0;34m\u001b[0m\u001b[0;34m\u001b[0m\u001b[0m\n",
      "\u001b[0;32m~/.local/lib/python3.10/site-packages/pabutools/election/satisfaction/functionalsatisfaction.py\u001b[0m in \u001b[0;36mcc_sat_func_app\u001b[0;34m(instance, profile, ballot, projects)\u001b[0m\n\u001b[1;32m    105\u001b[0m \u001b[0;34m\u001b[0m\u001b[0m\n\u001b[1;32m    106\u001b[0m     \"\"\"\n\u001b[0;32m--> 107\u001b[0;31m     \u001b[0;32mreturn\u001b[0m \u001b[0mint\u001b[0m\u001b[0;34m(\u001b[0m\u001b[0many\u001b[0m\u001b[0;34m(\u001b[0m\u001b[0mp\u001b[0m \u001b[0;32min\u001b[0m \u001b[0mballot\u001b[0m \u001b[0;32mfor\u001b[0m \u001b[0mp\u001b[0m \u001b[0;32min\u001b[0m \u001b[0mprojects\u001b[0m\u001b[0;34m)\u001b[0m\u001b[0;34m)\u001b[0m\u001b[0;34m\u001b[0m\u001b[0;34m\u001b[0m\u001b[0m\n\u001b[0m\u001b[1;32m    108\u001b[0m \u001b[0;34m\u001b[0m\u001b[0m\n\u001b[1;32m    109\u001b[0m \u001b[0;34m\u001b[0m\u001b[0m\n",
      "\u001b[0;31mKeyboardInterrupt\u001b[0m: "
     ]
    }
   ],
   "source": [
    "min_number_of_voters = 1\n",
    "max_number_of_voters = 100_000\n",
    "\n",
    "min_number_of_projects = 1\n",
    "max_number_of_projects = 220\n",
    "min_cost = 1\n",
    "max_cost = 1_000\n",
    "number_of_instances = 300\n",
    "\n",
    "increase_budget_percentage = 50\n",
    "\n",
    "sat_list = np.zeros((increase_budget_percentage))\n",
    "cost_list = np.zeros((increase_budget_percentage))\n",
    "avg_percentage_increase = 0 \n",
    "\n",
    "for k in range(0,number_of_instances):\n",
    "    print(\"Instance: \",k)\n",
    "    current_number_of_projects = random.randint(min_number_of_projects,max_number_of_projects)\n",
    "    current_number_of_voters = random.randint(min_number_of_voters,max_number_of_voters)\n",
    "    current_budget_limit = random.randint(max_cost,max_cost*current_number_of_projects)\n",
    "    current_instance = pb.instance.get_random_instance(current_number_of_projects,min_cost,max_cost)\n",
    "    current_profile = pb.get_random_approval_profile(current_instance,current_number_of_voters)\n",
    "    #print(\"budget_limit: \",current_budget_limit)\n",
    "    for i in range(0,increase_budget_percentage):\n",
    "        current_budget_limit = current_instance.budget_limit\n",
    "        current_instance.budget_limit = current_budget_limit + int(float(current_budget_limit) * float(i/100.0))\n",
    "        \n",
    "        #Outcomes:\n",
    "        outcome = pbr.method_of_equal_shares(current_instance,current_profile,sat_class = pb.CC_Sat)\n",
    "        avg_sat = pba.avg_satisfaction(current_instance,current_profile,outcome,pb.CC_Sat)\n",
    "        outcome_cost = sum(project.cost for project in outcome)\n",
    "        if(outcome_cost>current_budget_limit):\n",
    "            avg_percentage_increase = avg_percentage_increase + i - 1\n",
    "            break;\n",
    "        cost_list[i] = outcome_cost\n",
    "        sat_list[i] = sat_list[i] + avg_sat\n",
    "        current_instance.budget_limit = current_budget_limit\n",
    "        \n",
    "\n",
    "sat_list = sat_list/number_of_instances\n",
    "avg_percentage_increase = avg_percentage_increase/number_of_instances\n",
    "        \n",
    "print(\"Average needed percentage increase: \", avg_percentage_increase) \n",
    "\n",
    "#x = list(range(0, increase_budget_percentage))\n",
    "#plt.plot(x,sat_list, label='Prime Numbers', color='blue', marker='_')\n",
    "#plt.plot(x,cost_list, label='Prime Numbers', color='red', marker='_')\n",
    "#plt.show()"
   ]
  },
  {
   "cell_type": "code",
   "execution_count": 8,
   "id": "c6d2e95f",
   "metadata": {
    "scrolled": false
   },
   "outputs": [],
   "source": [
    "\n",
    "exhaustive_rates = np.array([])\n",
    "number_of_projects = np.array([])\n",
    "average_projects_costs = np.array([])\n",
    "leftover_budget = np.array([])\n",
    "cardinality_sat = np.array([])\n",
    "cost_sat = np.array([])\n",
    "sqrt_sat = np.array([])\n",
    "Log_sat = np.array([])\n",
    "Cc_sat = np.array([])\n",
    "EJR = np.array([])\n",
    "PJR = np.array([])\n",
    "EJR_x = np.array([])\n",
    "PJR_x = np.array([])\n",
    "Core = np.array([])\n",
    "\n",
    "avg_percentage_increase = 0 \n",
    "increase_budget_percent = 500\n",
    "\n",
    "folder = \"/home/kbem/Desktop/BachelorProjekt/pabulib/2025-05-05_17-40-49_pabulib/Medium 150-600\"\n",
    "all_entries = os.listdir(folder)\n",
    "count = 0\n",
    "for election in all_entries:\n",
    "    break # remove this if one wants to run it.\n",
    "    count = count + 1\n",
    "    print(\"instance: \" , count)\n",
    "    print(\"ELECTION: \",election)\n",
    "    parsed = pb.parse_pabulib(folder +\"/\"+ election)\n",
    "    current_instance =  parsed[0]\n",
    "    current_profile = parsed[1]\n",
    "    for i in range(0,increase_budget_percent):\n",
    "        #print(\"percent: \", i)\n",
    "        current_budget_limit = current_instance.budget_limit\n",
    "        current_instance.budget_limit = current_budget_limit + int(float(current_budget_limit) * float(i/100.0))\n",
    "        \n",
    "        #Outcomes:\n",
    "        outcome = pbr.method_of_equal_shares(current_instance,current_profile,sat_class = pb.CC_Sat)\n",
    "        avg_sat = pba.avg_satisfaction(current_instance,current_profile,outcome,pb.CC_Sat)\n",
    "        outcome_cost = sum(project.cost for project in outcome)\n",
    "        if(outcome_cost>current_budget_limit):\n",
    "            avg_percentage_increase = avg_percentage_increase + i - 1\n",
    "            print(avg_percentage_increase/count)\n",
    "            break;\n",
    "        current_instance.budget_limit = current_budget_limit\n",
    "        \n",
    "        \n",
    "#avg_percentage_increase = avg_percentage_increase/len(all_entries)\n",
    "        \n",
    "#print(\"Average needed percentage increase: \", avg_percentage_increase) \n"
   ]
  },
  {
   "cell_type": "code",
   "execution_count": 13,
   "id": "747b0ea3",
   "metadata": {},
   "outputs": [
    {
     "name": "stdout",
     "output_type": "stream",
     "text": [
      "GREEDY\n",
      "Outcome: [P1 (North), P2 (North), P3 (North)]\n",
      "CC sat 2/5\n",
      "Cost 38.4\n",
      "Equal Shares\n",
      "Outcome: [P1 (North), P10 (South), P4 (East), P5 (East), P6 (East), P7 (West), P8 (West)]\n",
      "CC sat 1\n",
      "Cost 22.2\n",
      "Seq Phargmen\n",
      "Outcome: [P1 (North), P10 (South), P11 (South), P4 (East), P5 (East), P6 (East), P7 (West), P8 (West), P9 (West)]\n",
      "CC sat 1\n",
      "Cost 26.0\n"
     ]
    },
    {
     "data": {
      "text/plain": [
       "'real-elections/CirclevilleExam'"
      ]
     },
     "execution_count": 13,
     "metadata": {},
     "output_type": "execute_result"
    }
   ],
   "source": [
    "import os\n",
    "\n",
    "#This is an example of circleville. Used for the exam.\n",
    "\n",
    "p1 = pb.Project(\"P1 (North)\",32)\n",
    "p2 = pb.Project(\"P2 (North)\",32)\n",
    "p3 = pb.Project(\"P3 (North)\",32)\n",
    "\n",
    "p4 = pb.Project(\"P4 (East)\",7)\n",
    "p5 = pb.Project(\"P5 (East)\",5)\n",
    "p6 = pb.Project(\"P6 (East)\",8)\n",
    "\n",
    "p7 = pb.Project(\"P7 (West)\",8)\n",
    "p8 = pb.Project(\"P8 (West)\",8)\n",
    "p9 = pb.Project(\"P9 (West)\",8)\n",
    "\n",
    "p10 = pb.Project(\"P10 (South)\",11)\n",
    "p11 = pb.Project(\"P11 (South)\",11)\n",
    "p12 = pb.Project(\"P12 (South)\",11)\n",
    "\n",
    "#North people\n",
    "b1 = pb.ApprovalBallot([p1,p2,p3])\n",
    "b2 = pb.ApprovalBallot([p1,p2,p3])\n",
    "b3 = pb.ApprovalBallot([p1,p2,p3])\n",
    "b4 = pb.ApprovalBallot([p1,p2,p3])\n",
    "#East People\n",
    "b5 = pb.ApprovalBallot([p4,p5,p6])\n",
    "b6 = pb.ApprovalBallot([p4,p5,p6])\n",
    "#West people\n",
    "b7 = pb.ApprovalBallot([p7,p8,p9])\n",
    "b8 = pb.ApprovalBallot([p7,p8,p9])\n",
    "#South prople\n",
    "b9 = pb.ApprovalBallot([p10,p11,p12])\n",
    "b10 = pb.ApprovalBallot([p10,p11,p12])\n",
    "\n",
    "\n",
    "profile = pb.ApprovalProfile([b1,b2,b3,b4,b5,b6,b7,b8,b9,b10])\n",
    "voting_instance = pb.Instance([p1,p2,p3,p4,p5,p6,p7,p8,p9,p10,p11,p12],budget_limit=100)\n",
    "\n",
    "\n",
    "# Adding projects to metadata\n",
    "voting_instance.project_meta[p1] = {'name': \"P1 (North)\"}\n",
    "voting_instance.project_meta[p2] = {'name': \"P2 (North)\"}\n",
    "voting_instance.project_meta[p3] = {'name': \"P3 (North)\"}\n",
    "\n",
    "voting_instance.project_meta[p4] = {'name': \"P4 (East)\"}\n",
    "voting_instance.project_meta[p5] = {'name': \"P5 (East)\"}\n",
    "voting_instance.project_meta[p6] = {'name': \"P6 (East)\"}\n",
    "\n",
    "voting_instance.project_meta[p7] = {'name': \"P7 (West)\"}\n",
    "voting_instance.project_meta[p8] = {'name': \"P8 (West)\"}\n",
    "voting_instance.project_meta[p9] = {'name': \"P9 (West)\"}\n",
    "\n",
    "voting_instance.project_meta[p10] = {'name': \"P10 (South)\"}\n",
    "voting_instance.project_meta[p11] = {'name': \"P11 (South)\"}\n",
    "voting_instance.project_meta[p12] = {'name': \"P12 (South)\"}\n",
    "\n",
    "\n",
    "\n",
    "filepath = \"real-elections/\"+\"CirclevilleExam\" # For when running through docker\n",
    "os.makedirs(os.path.dirname(filepath),exist_ok=True)\n",
    "with open(filepath,\"w\") as f:\n",
    "    f.write(\"hello\")\n",
    "pb.write_pabulib(voting_instance,profile,filepath)\n",
    "\n",
    "\n",
    "#Greedy\n",
    "print(\"GREEDY\")\n",
    "outcome = pbr.greedy_utilitarian_welfare(voting_instance,profile,sat_class = pb.Cost_Sat)\n",
    "print(\"Outcome:\" ,outcome)\n",
    "print(\"CC sat\",pba.avg_satisfaction(voting_instance,profile,outcome,pb.CC_Sat))\n",
    "print(\"Cost\",float(pba.avg_satisfaction(voting_instance,profile,outcome,pb.Cost_Sat)))\n",
    "\n",
    "#Equal Shares\n",
    "print(\"Equal Shares\")\n",
    "outcome = pbr.method_of_equal_shares(voting_instance,profile,sat_class = pb.Cost_Sat)\n",
    "print(\"Outcome:\" ,outcome)\n",
    "print(\"CC sat\",pba.avg_satisfaction(voting_instance,profile,outcome,pb.CC_Sat))\n",
    "print(\"Cost\",float(pba.avg_satisfaction(voting_instance,profile,outcome,pb.Cost_Sat)))\n",
    "\n",
    "#sequential phragmen\n",
    "print(\"Seq Phargmen\")\n",
    "outcome = pbr.sequential_phragmen(voting_instance,profile)\n",
    "print(\"Outcome:\" ,outcome)\n",
    "print(\"CC sat\",pba.avg_satisfaction(voting_instance,profile,outcome,pb.CC_Sat))\n",
    "print(\"Cost\",float(pba.avg_satisfaction(voting_instance,profile,outcome,pb.Cost_Sat)))\n",
    "\n",
    "filepath"
   ]
  },
  {
   "cell_type": "code",
   "execution_count": null,
   "id": "ad36ff6a",
   "metadata": {},
   "outputs": [],
   "source": []
  }
 ],
 "metadata": {
  "kernelspec": {
   "display_name": "Python 3 (ipykernel)",
   "language": "python",
   "name": "python3"
  },
  "language_info": {
   "codemirror_mode": {
    "name": "ipython",
    "version": 3
   },
   "file_extension": ".py",
   "mimetype": "text/x-python",
   "name": "python",
   "nbconvert_exporter": "python",
   "pygments_lexer": "ipython3",
   "version": "3.10.12"
  }
 },
 "nbformat": 4,
 "nbformat_minor": 5
}
