{
 "cells": [
  {
   "cell_type": "code",
   "execution_count": 20,
   "id": "2510b419",
   "metadata": {},
   "outputs": [],
   "source": [
    "import pabutools.election as pb\n",
    "import pabutools.rules as pbr\n",
    "import pabutools.analysis as pba"
   ]
  },
  {
   "cell_type": "code",
   "execution_count": 43,
   "id": "547d6a0f",
   "metadata": {},
   "outputs": [
    {
     "name": "stdout",
     "output_type": "stream",
     "text": [
      "Outcome: [P1]\n",
      "1/2\n",
      "3.872983346207417\n",
      "P1\n"
     ]
    }
   ],
   "source": [
    "p1 = pb.Project(\"P1\",60)\n",
    "p2 = pb.Project(\"P2\",61)\n",
    "\n",
    "b1 = pb.ApprovalBallot([p1])\n",
    "b2 = pb.ApprovalBallot([p1])\n",
    "b3 = pb.ApprovalBallot([p2])\n",
    "b4 = pb.ApprovalBallot([p2])\n",
    "\n",
    "profile = pb.ApprovalProfile([b1,b2,b3,b4])\n",
    "voting_instance = pb.Instance([p1,p2],budget_limit=120)\n",
    "\n",
    "outcome = pbr.method_of_equal_shares(voting_instance,profile,sat_class = pb.Cost_Sat)\n",
    "print(\"Outcome:\" ,outcome)\n",
    "print(pba.avg_satisfaction(voting_instance,profile,outcome,pb.CC_Sat))\n",
    "print(float(pba.avg_satisfaction(voting_instance,profile,outcome,pb.Cost_Sqrt_Sat)))\n",
    "print(list(profile[1])[0])"
   ]
  }
 ],
 "metadata": {
  "kernelspec": {
   "display_name": "Python 3 (ipykernel)",
   "language": "python",
   "name": "python3"
  },
  "language_info": {
   "codemirror_mode": {
    "name": "ipython",
    "version": 3
   },
   "file_extension": ".py",
   "mimetype": "text/x-python",
   "name": "python",
   "nbconvert_exporter": "python",
   "pygments_lexer": "ipython3",
   "version": "3.10.12"
  }
 },
 "nbformat": 4,
 "nbformat_minor": 5
}
