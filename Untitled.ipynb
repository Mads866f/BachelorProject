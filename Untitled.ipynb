{
 "cells": [
  {
   "cell_type": "code",
   "execution_count": 42,
   "id": "42a7d4f8",
   "metadata": {},
   "outputs": [
    {
     "name": "stdout",
     "output_type": "stream",
     "text": [
      "Defaulting to user installation because normal site-packages is not writeable\n",
      "Requirement already satisfied: pip in /home/kbem/.local/lib/python3.10/site-packages (25.1)\n",
      "\u001b[33mWARNING: Error parsing dependencies of send2trash: Expected matching RIGHT_PARENTHESIS for LEFT_PARENTHESIS, after version specifier\n",
      "    sys-platform (==\"darwin\") ; extra == 'objc'\n",
      "                 ~^\u001b[0m\u001b[33m\n",
      "\u001b[0m\u001b[33mWARNING: Error parsing dependencies of send2trash: Expected matching RIGHT_PARENTHESIS for LEFT_PARENTHESIS, after version specifier\n",
      "    sys-platform (==\"darwin\") ; extra == 'objc'\n",
      "                 ~^\u001b[0m\u001b[33m\n",
      "\u001b[0m"
     ]
    }
   ],
   "source": [
    "!python3 -m pip install --upgrade pip\n",
    "!pip install \"numpy<2\" --quiet"
   ]
  },
  {
   "cell_type": "code",
   "execution_count": 1,
   "id": "2510b419",
   "metadata": {},
   "outputs": [
    {
     "name": "stdout",
     "output_type": "stream",
     "text": [
      "1.26.4\n"
     ]
    }
   ],
   "source": [
    "import pabutools.election as pb\n",
    "import pabutools.rules as pbr\n",
    "import pabutools.analysis as pba\n",
    "import numpy as np\n",
    "print(np.__version__)\n",
    "import matplotlib.pyplot as plt\n",
    "import random\n",
    "import os"
   ]
  },
  {
   "cell_type": "code",
   "execution_count": 35,
   "id": "547d6a0f",
   "metadata": {},
   "outputs": [
    {
     "name": "stdout",
     "output_type": "stream",
     "text": [
      "Outcome: [P1]\n",
      "1/2\n",
      "3.872983346207417\n",
      "P1\n"
     ]
    }
   ],
   "source": [
    "p1 = pb.Project(\"P1\",60)\n",
    "p2 = pb.Project(\"P2\",61)\n",
    "\n",
    "b1 = pb.ApprovalBallot([p1])\n",
    "b2 = pb.ApprovalBallot([p1])\n",
    "b3 = pb.ApprovalBallot([p2])\n",
    "b4 = pb.ApprovalBallot([p2])\n",
    "\n",
    "profile = pb.ApprovalProfile([b1,b2,b3,b4])\n",
    "voting_instance = pb.Instance([p1,p2],budget_limit=120)\n",
    "\n",
    "outcome = pbr.method_of_equal_shares(voting_instance,profile,sat_class = pb.Cost_Sat)\n",
    "print(\"Outcome:\" ,outcome)\n",
    "print(pba.avg_satisfaction(voting_instance,profile,outcome,pb.CC_Sat))\n",
    "print(float(pba.avg_satisfaction(voting_instance,profile,outcome,pb.Cost_Sqrt_Sat)))\n",
    "print(list(profile[1])[0])"
   ]
  },
  {
   "cell_type": "code",
   "execution_count": null,
   "id": "bf166716",
   "metadata": {},
   "outputs": [
    {
     "name": "stdout",
     "output_type": "stream",
     "text": [
      "Instance:  0\n",
      "Instance:  1\n",
      "Instance:  2\n",
      "Instance:  3\n",
      "Instance:  4\n",
      "Instance:  5\n",
      "Instance:  6\n",
      "Instance:  7\n",
      "Instance:  8\n",
      "Instance:  9\n"
     ]
    }
   ],
   "source": [
    "min_number_of_voters = 1\n",
    "max_number_of_voters = 100_000\n",
    "\n",
    "min_number_of_projects = 1\n",
    "max_number_of_projects = 220\n",
    "min_cost = 1\n",
    "max_cost = 1_000\n",
    "number_of_instances = 300\n",
    "\n",
    "increase_budget_percentage = 50\n",
    "\n",
    "sat_list = np.zeros((increase_budget_percentage))\n",
    "cost_list = np.zeros((increase_budget_percentage))\n",
    "avg_percentage_increase = 0 \n",
    "\n",
    "for k in range(0,number_of_instances):\n",
    "    print(\"Instance: \",k)\n",
    "    current_number_of_projects = random.randint(min_number_of_projects,max_number_of_projects)\n",
    "    current_number_of_voters = random.randint(min_number_of_voters,max_number_of_voters)\n",
    "    current_budget_limit = random.randint(max_cost,max_cost*current_number_of_projects)\n",
    "    current_instance = pb.instance.get_random_instance(current_number_of_projects,min_cost,max_cost)\n",
    "    current_profile = pb.get_random_approval_profile(current_instance,current_number_of_voters)\n",
    "    #print(\"budget_limit: \",current_budget_limit)\n",
    "    for i in range(0,increase_budget_percentage):\n",
    "        current_budget_limit = current_instance.budget_limit\n",
    "        current_instance.budget_limit = current_budget_limit + int(float(current_budget_limit) * float(i/100.0))\n",
    "        \n",
    "        #Outcomes:\n",
    "        outcome = pbr.method_of_equal_shares(current_instance,current_profile,sat_class = pb.CC_Sat)\n",
    "        avg_sat = pba.avg_satisfaction(current_instance,current_profile,outcome,pb.CC_Sat)\n",
    "        outcome_cost = sum(project.cost for project in outcome)\n",
    "        if(outcome_cost>current_budget_limit):\n",
    "            avg_percentage_increase = avg_percentage_increase + i - 1\n",
    "            break;\n",
    "        cost_list[i] = outcome_cost\n",
    "        sat_list[i] = sat_list[i] + avg_sat\n",
    "        current_instance.budget_limit = current_budget_limit\n",
    "        \n",
    "\n",
    "sat_list = sat_list/number_of_instances\n",
    "avg_percentage_increase = avg_percentage_increase/number_of_instances\n",
    "        \n",
    "print(\"Average needed percentage increase: \", avg_percentage_increase) \n",
    "\n",
    "#x = list(range(0, increase_budget_percentage))\n",
    "#plt.plot(x,sat_list, label='Prime Numbers', color='blue', marker='_')\n",
    "#plt.plot(x,cost_list, label='Prime Numbers', color='red', marker='_')\n",
    "#plt.show()"
   ]
  },
  {
   "cell_type": "code",
   "execution_count": 3,
   "id": "c6d2e95f",
   "metadata": {
    "scrolled": false
   },
   "outputs": [
    {
     "name": "stdout",
     "output_type": "stream",
     "text": [
      "instance:  1\n",
      "ELECTION:  poland_warszawa_2017_wrzeciono-mlociny.pb\n",
      "122.0\n",
      "instance:  2\n",
      "ELECTION:  us_stanford-dataset_pb-greensboro-district-1-2019_vote-knapsacks.pb\n",
      "84.5\n",
      "instance:  3\n",
      "ELECTION:  poland_warszawa_2018_wilanow.pb\n",
      "115.66666666666667\n",
      "instance:  4\n",
      "ELECTION:  poland_lodz_2020_radogoszcz.pb\n",
      "130.75\n",
      "instance:  5\n",
      "ELECTION:  poland_warszawa_2020_ursynow.pb\n",
      "113.2\n",
      "instance:  6\n",
      "ELECTION:  poland_warszawa_2017_wars.pb\n"
     ]
    },
    {
     "ename": "FileNotFoundError",
     "evalue": "[Errno 2] No such file or directory: '/home/kbem/Desktop/BachelorProjekt/pabulib/2025-05-05_17-40-49_pabulib/poland_warszawa_2017_wars.pb'",
     "output_type": "error",
     "traceback": [
      "\u001b[0;31m---------------------------------------------------------------------------\u001b[0m",
      "\u001b[0;31mFileNotFoundError\u001b[0m                         Traceback (most recent call last)",
      "\u001b[0;32m/tmp/ipykernel_68838/2484137676.py\u001b[0m in \u001b[0;36m<module>\u001b[0;34m\u001b[0m\n\u001b[1;32m     24\u001b[0m     \u001b[0mprint\u001b[0m\u001b[0;34m(\u001b[0m\u001b[0;34m\"instance: \"\u001b[0m \u001b[0;34m,\u001b[0m \u001b[0mcount\u001b[0m\u001b[0;34m)\u001b[0m\u001b[0;34m\u001b[0m\u001b[0;34m\u001b[0m\u001b[0m\n\u001b[1;32m     25\u001b[0m     \u001b[0mprint\u001b[0m\u001b[0;34m(\u001b[0m\u001b[0;34m\"ELECTION: \"\u001b[0m\u001b[0;34m,\u001b[0m\u001b[0melection\u001b[0m\u001b[0;34m)\u001b[0m\u001b[0;34m\u001b[0m\u001b[0;34m\u001b[0m\u001b[0m\n\u001b[0;32m---> 26\u001b[0;31m     \u001b[0mparsed\u001b[0m \u001b[0;34m=\u001b[0m \u001b[0mpb\u001b[0m\u001b[0;34m.\u001b[0m\u001b[0mparse_pabulib\u001b[0m\u001b[0;34m(\u001b[0m\u001b[0mfolder\u001b[0m \u001b[0;34m+\u001b[0m\u001b[0;34m\"/\"\u001b[0m\u001b[0;34m+\u001b[0m \u001b[0melection\u001b[0m\u001b[0;34m)\u001b[0m\u001b[0;34m\u001b[0m\u001b[0;34m\u001b[0m\u001b[0m\n\u001b[0m\u001b[1;32m     27\u001b[0m     \u001b[0mcurrent_instance\u001b[0m \u001b[0;34m=\u001b[0m  \u001b[0mparsed\u001b[0m\u001b[0;34m[\u001b[0m\u001b[0;36m0\u001b[0m\u001b[0;34m]\u001b[0m\u001b[0;34m\u001b[0m\u001b[0;34m\u001b[0m\u001b[0m\n\u001b[1;32m     28\u001b[0m     \u001b[0mcurrent_profile\u001b[0m \u001b[0;34m=\u001b[0m \u001b[0mparsed\u001b[0m\u001b[0;34m[\u001b[0m\u001b[0;36m1\u001b[0m\u001b[0;34m]\u001b[0m\u001b[0;34m\u001b[0m\u001b[0;34m\u001b[0m\u001b[0m\n",
      "\u001b[0;32m~/.local/lib/python3.10/site-packages/pabutools/election/pabulib.py\u001b[0m in \u001b[0;36mparse_pabulib\u001b[0;34m(file_path)\u001b[0m\n\u001b[1;32m    229\u001b[0m     \"\"\"\n\u001b[1;32m    230\u001b[0m \u001b[0;34m\u001b[0m\u001b[0m\n\u001b[0;32m--> 231\u001b[0;31m     \u001b[0;32mwith\u001b[0m \u001b[0mopen\u001b[0m\u001b[0;34m(\u001b[0m\u001b[0mfile_path\u001b[0m\u001b[0;34m,\u001b[0m \u001b[0;34m\"r\"\u001b[0m\u001b[0;34m,\u001b[0m \u001b[0mnewline\u001b[0m\u001b[0;34m=\u001b[0m\u001b[0;34m\"\"\u001b[0m\u001b[0;34m,\u001b[0m \u001b[0mencoding\u001b[0m\u001b[0;34m=\u001b[0m\u001b[0;34m\"utf-8-sig\"\u001b[0m\u001b[0;34m)\u001b[0m \u001b[0;32mas\u001b[0m \u001b[0mcsvfile\u001b[0m\u001b[0;34m:\u001b[0m\u001b[0;34m\u001b[0m\u001b[0;34m\u001b[0m\u001b[0m\n\u001b[0m\u001b[1;32m    232\u001b[0m         \u001b[0minstance\u001b[0m\u001b[0;34m,\u001b[0m \u001b[0mprofile\u001b[0m \u001b[0;34m=\u001b[0m \u001b[0mparse_pabulib_from_string\u001b[0m\u001b[0;34m(\u001b[0m\u001b[0mcsvfile\u001b[0m\u001b[0;34m.\u001b[0m\u001b[0mread\u001b[0m\u001b[0;34m(\u001b[0m\u001b[0;34m)\u001b[0m\u001b[0;34m)\u001b[0m\u001b[0;34m\u001b[0m\u001b[0;34m\u001b[0m\u001b[0m\n\u001b[1;32m    233\u001b[0m \u001b[0;34m\u001b[0m\u001b[0m\n",
      "\u001b[0;31mFileNotFoundError\u001b[0m: [Errno 2] No such file or directory: '/home/kbem/Desktop/BachelorProjekt/pabulib/2025-05-05_17-40-49_pabulib/poland_warszawa_2017_wars.pb'"
     ]
    }
   ],
   "source": [
    "\n",
    "exhaustive_rates = np.array([])\n",
    "number_of_projects = np.array([])\n",
    "average_projects_costs = np.array([])\n",
    "leftover_budget = np.array([])\n",
    "cardinality_sat = np.array([])\n",
    "cost_sat = np.array([])\n",
    "sqrt_sat = np.array([])\n",
    "Log_sat = np.array([])\n",
    "Cc_sat = np.array([])\n",
    "EJR = np.array([])\n",
    "PJR = np.array([])\n",
    "EJR_x = np.array([])\n",
    "PJR_x = np.array([])\n",
    "Core = np.array([])\n",
    "\n",
    "avg_percentage_increase = 0 \n",
    "increase_budget_percent = 500\n",
    "\n",
    "folder = \"/home/kbem/Desktop/BachelorProjekt/pabulib/2025-05-05_17-40-49_pabulib\"\n",
    "all_entries = os.listdir(folder)\n",
    "count = 0\n",
    "for election in all_entries:\n",
    "    count = count + 1\n",
    "    print(\"instance: \" , count)\n",
    "    print(\"ELECTION: \",election)\n",
    "    parsed = pb.parse_pabulib(folder +\"/\"+ election)\n",
    "    current_instance =  parsed[0]\n",
    "    current_profile = parsed[1]\n",
    "    for i in range(0,increase_budget_percent):\n",
    "        #print(\"percent: \", i)\n",
    "        current_budget_limit = current_instance.budget_limit\n",
    "        current_instance.budget_limit = current_budget_limit + int(float(current_budget_limit) * float(i/100.0))\n",
    "        \n",
    "        #Outcomes:\n",
    "        outcome = pbr.method_of_equal_shares(current_instance,current_profile,sat_class = pb.CC_Sat)\n",
    "        avg_sat = pba.avg_satisfaction(current_instance,current_profile,outcome,pb.CC_Sat)\n",
    "        outcome_cost = sum(project.cost for project in outcome)\n",
    "        if(outcome_cost>current_budget_limit):\n",
    "            avg_percentage_increase = avg_percentage_increase + i - 1\n",
    "            print(avg_percentage_increase/count)\n",
    "            break;\n",
    "        current_instance.budget_limit = current_budget_limit\n",
    "        \n",
    "        \n",
    "avg_percentage_increase = avg_percentage_increase/len(all_entries)\n",
    "        \n",
    "print(\"Average needed percentage increase: \", avg_percentage_increase) \n"
   ]
  },
  {
   "cell_type": "code",
   "execution_count": null,
   "id": "747b0ea3",
   "metadata": {},
   "outputs": [],
   "source": []
  }
 ],
 "metadata": {
  "kernelspec": {
   "display_name": "Python 3 (ipykernel)",
   "language": "python",
   "name": "python3"
  },
  "language_info": {
   "codemirror_mode": {
    "name": "ipython",
    "version": 3
   },
   "file_extension": ".py",
   "mimetype": "text/x-python",
   "name": "python",
   "nbconvert_exporter": "python",
   "pygments_lexer": "ipython3",
   "version": "3.10.12"
  }
 },
 "nbformat": 4,
 "nbformat_minor": 5
}
